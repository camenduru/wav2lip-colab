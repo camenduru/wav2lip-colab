{
  "cells": [
    {
      "cell_type": "markdown",
      "metadata": {
        "id": "view-in-github"
      },
      "source": [
        "[![Open In Colab](https://colab.research.google.com/assets/colab-badge.svg)](https://colab.research.google.com/github/camenduru/wav2lip-colab/blob/main/wav2lip-colab-gradio.ipynb)"
      ]
    },
    {
      "cell_type": "code",
      "execution_count": null,
      "metadata": {
        "id": "pDFLJJrdPipH",
        "vscode": {
          "languageId": "python"
        }
      },
      "outputs": [],
      "source": [
        "!git clone https://huggingface.co/camenduru/Wav2Lip\n",
        "!pip install gradio yt_dlp ffmpeg-python\n",
        "%cd Wav2Lip"
      ]
    },
    {
      "cell_type": "code",
      "execution_count": null,
      "metadata": {
        "id": "RtpzttUP_tul",
        "vscode": {
          "languageId": "python"
        }
      },
      "outputs": [],
      "source": [
        "import gradio as gr\n",
        "from yt_dlp import YoutubeDL\n",
        "import os\n",
        "from subprocess import getoutput\n",
        "    \n",
        "def download_video(url):\n",
        "    with YoutubeDL({'outtmpl': 'video.mp4'}) as ydl:\n",
        "        ydl.extract_info(url, download=True)\n",
        "    return f\"/content/video.mp4\"\n",
        "\n",
        "def generate():\n",
        "    os.system(f\"python inference.py --checkpoint_path checkpoints/wav2lip_gan.pth --face '/content/video.mp4' --audio '/content/audio.wav'\")\n",
        "    return f\"/content/video.mp4\"\n",
        "\n",
        "app = gr.Blocks()\n",
        "with app:\n",
        "  with gr.Row():\n",
        "    with gr.Column():\n",
        "      input_text = gr.inputs.Textbox(lines=1, label=\"Video URL\")\n",
        "      input_download_button = gr.Button(value=\"Download\")\n",
        "      input_generate_button = gr.Button(value=\"Generate\")\n",
        "    with gr.Column():\n",
        "        video_out = gr.outputs.Video(label=\"Output Video\")\n",
        "    input_download_button.click(download_video, inputs=[input_text], outputs=[video_out])\n",
        "    input_generate_button.click(download_video, inputs=[input_text], outputs=[video_out])\n",
        "  \n",
        "app.launch(debug=True) "
      ]
    }
  ],
  "metadata": {
    "accelerator": "GPU",
    "colab": {
      "provenance": []
    },
    "kernelspec": {
      "display_name": "Python 3",
      "name": "python3"
    }
  },
  "nbformat": 4,
  "nbformat_minor": 0
}
